{
 "cells": [
  {
   "cell_type": "markdown",
   "metadata": {},
   "source": [
    "# Liste des différents type de variable\n",
    "- float: un nombre a virgule flottante\n",
    "- int: un simple entier\n",
    "- tuple: comme une liste mais ce déclare avec des parenthése et n'est pas mutable (modifiable)\n",
    "- dict: dictionnnaire, voir exemple\n",
    "- list: une simple liste comme le tuple mais est mutable (modifiable)\n",
    "- set: comme un dictionnaire mais permet de faire des opération booléenne et n'est pas mutable\n",
    "- string: chaine de charactére"
   ]
  },
  {
   "cell_type": "code",
   "execution_count": 1,
   "metadata": {},
   "outputs": [
    {
     "name": "stdout",
     "output_type": "stream",
     "text": [
      "<class 'float'>\n",
      "<class 'int'>\n",
      "<class 'tuple'>\n",
      "<class 'dict'>\n",
      "1\n",
      "12\n",
      "{'moncul': 12, 'lacommode': 5}\n",
      "[4, 2, 3] <class 'list'>\n",
      "<class 'set'>\n",
      "{1, 2}\n",
      "{3}\n",
      "{1, 2, 4, 5, 6}\n",
      "<class 'str'>\n"
     ]
    }
   ],
   "source": [
    "a = 1.\n",
    "print(type(a))\n",
    "a = 1\n",
    "print(type(a))\n",
    "a = (1,2,3)\n",
    "print(type(a))\n",
    "a = {\"moncul\": 1}\n",
    "print(type(a))\n",
    "print(a[\"moncul\"])\n",
    "a[\"moncul\"] = 12\n",
    "print(a[\"moncul\"])\n",
    "a[\"lacommode\"] = 5\n",
    "print(a)\n",
    "a = [1,2,3]\n",
    "a[0] = 4\n",
    "print(a, type(a))\n",
    "a = set((1,2,3))\n",
    "b = set((3,4,5,6))\n",
    "print(type(a))\n",
    "print(a.difference(b))\n",
    "print(a.intersection(b))\n",
    "print(a.symmetric_difference(b))\n",
    "a = \"mon cul\"\n",
    "print(type(a))"
   ]
  },
  {
   "cell_type": "markdown",
   "metadata": {},
   "source": [
    "# Les conditions\n",
    "\n",
    "$==$ : égale\n",
    "\n",
    "$!=$ : différent\n",
    "\n",
    "$>$ : plus grand que\n",
    "\n",
    "$<$ : plus petit que\n",
    "\n",
    "$>=$ : plus grand ou égale\n",
    "\n",
    "$<=$ : plus petit ou égale\n",
    "\n",
    "### on peut aussi utilisé quelque astuce avec les type de variable:\n",
    "\n",
    "- par exemple:\n",
    "\n",
    "    - if a is not None: \n",
    "\n",
    "        - verifie que la variable n'est de type Nonetype (vide)\n",
    "\n",
    "    - if isinstance(a) == maclass:\n",
    "\n",
    "        - verifie que la variable est bien une d'un type que j'ai créer moi même\n",
    "\n",
    "    - if type(a) == str:\n",
    "\n",
    "        - verifie que la variable est bien une string"
   ]
  },
  {
   "cell_type": "code",
   "execution_count": 2,
   "metadata": {},
   "outputs": [
    {
     "name": "stdout",
     "output_type": "stream",
     "text": [
      "False\n",
      "False\n",
      "True\n",
      "False\n",
      "True\n",
      "False\n",
      "True\n",
      "True\n",
      "False\n",
      "True\n",
      "True\n",
      "True\n"
     ]
    }
   ],
   "source": [
    "print(4 == float)\n",
    "print(4 == int)\n",
    "print(type(4) == int)\n",
    "print(4 >= 5)\n",
    "print(4 <= 5)\n",
    "print(4 < 4)\n",
    "print(5 > 4)\n",
    "print(5 != 4)\n",
    "print(5 != 5)\n",
    "print(\"cinq\" != 5)\n",
    "print(type(\"cinq\") == str)\n",
    "print(type(\"cinq\") != int)"
   ]
  },
  {
   "cell_type": "markdown",
   "metadata": {},
   "source": [
    "# Les operateurs\n",
    "\n",
    "- $/$ diviser\n",
    "- $*$ multiplier\n",
    "- $//$ diviser et retourne seulement l'entier \n",
    "- ** puissance\n",
    "- % modulo (renvoie le reste d'une division)\n",
    "    - par exemple: \n",
    "        - x % 360 renverras toujours une valeurs entre 0 et 360\n",
    "\n",
    "            si x = 180\n",
    "\n",
    "            x % 360 => 180\n",
    "\n",
    "            si x = 360\n",
    "\n",
    "            x % 360 => 0\n",
    "\n",
    "            si x = 540\n",
    "\n",
    "            x % 360 => 180 \n",
    "\n",
    "            si x = 720\n",
    "            \n",
    "            x % 360 => 0"
   ]
  },
  {
   "cell_type": "code",
   "execution_count": 3,
   "metadata": {},
   "outputs": [
    {
     "name": "stdout",
     "output_type": "stream",
     "text": [
      "3.3333333333333335\n",
      "3\n",
      "30\n",
      "1000\n",
      "0  est un multiple de 4\n",
      "1 n'est pas un multiple de 4 et il reste:1\n",
      "2 n'est pas un multiple de 4 et il reste:2\n",
      "3 n'est pas un multiple de 4 et il reste:3\n",
      "4  est un multiple de 4\n",
      "5 n'est pas un multiple de 4 et il reste:1\n",
      "6 n'est pas un multiple de 4 et il reste:2\n",
      "7 n'est pas un multiple de 4 et il reste:3\n",
      "8  est un multiple de 4\n",
      "9 n'est pas un multiple de 4 et il reste:1\n",
      "10 n'est pas un multiple de 4 et il reste:2\n",
      "11 n'est pas un multiple de 4 et il reste:3\n",
      "12  est un multiple de 4\n",
      "13 n'est pas un multiple de 4 et il reste:1\n",
      "14 n'est pas un multiple de 4 et il reste:2\n",
      "15 n'est pas un multiple de 4 et il reste:3\n",
      "16  est un multiple de 4\n",
      "17 n'est pas un multiple de 4 et il reste:1\n",
      "18 n'est pas un multiple de 4 et il reste:2\n",
      "19 n'est pas un multiple de 4 et il reste:3\n"
     ]
    }
   ],
   "source": [
    "print(10/3)\n",
    "print(10//3)\n",
    "print(10*3)\n",
    "print(10**3)\n",
    "for i in range(0, 20, 1):\n",
    "    if i % 4 == 0:\n",
    "        print(i , \" est un multiple de 4\")\n",
    "    else:\n",
    "        print(i, f\"n'est pas un multiple de 4 et il reste:{i%4}\")\n",
    "    "
   ]
  },
  {
   "cell_type": "markdown",
   "metadata": {},
   "source": [
    "# Conditional Statements\n",
    "\n",
    "- if ... else ... : si ... sinon ...\n",
    "- if ... elif ... elif ... else ...:  si ... sinon si ... sinon si ... sinon\n",
    "- boucle for:\n",
    "    - for ... in range(debut, fin, incrément):\n",
    "    - for ... in (objet avec __iter__)\n",
    "    - for ... in range(fin)\n",
    "- boucle while:\n",
    "    - while ...:\n",
    "        - tant que la condition ... est vrai la boucle continueras    "
   ]
  },
  {
   "cell_type": "code",
   "execution_count": 4,
   "metadata": {},
   "outputs": [
    {
     "name": "stdout",
     "output_type": "stream",
     "text": [
      "x n'est pas egale a 4 (quatre)\n",
      "4\n",
      "quatre\n",
      "[0, 2, 4, 6, 8]\n",
      "[0, 1, 2, 3, 4, 5, 6, 7, 8, 9]\n",
      "[0, 2, 4, 6, 8]\n",
      "0\n",
      "2\n",
      "4\n",
      "6\n",
      "8\n",
      "un\n",
      "0\n",
      "deux\n",
      "1\n",
      "trois\n",
      "2\n",
      "0 0\n",
      "1 2\n",
      "2 4\n",
      "3 6\n",
      "4 8\n"
     ]
    }
   ],
   "source": [
    "def check4(x):\n",
    "    if x == 4:\n",
    "        print('quatre')\n",
    "    elif x == 'quatre':\n",
    "        print(4)\n",
    "    else:\n",
    "        print(\"x n'est pas egale a 4 (quatre)\")\n",
    "\n",
    "check4(1)\n",
    "check4('quatre')\n",
    "check4(4)\n",
    "\n",
    "a = True if 'quatre' == 4 else False\n",
    "\n",
    "a = []\n",
    "for i in range(0, 10, 2):\n",
    "    a.append(i)\n",
    "print(a)\n",
    "a=[]\n",
    "for i in range(10):\n",
    "    a.append(i)\n",
    "print(a)\n",
    "\n",
    "a = [i for i in range(0,10,2)]\n",
    "print(a)\n",
    "\n",
    "for number in a:\n",
    "    print(number)\n",
    "\n",
    "b = {\"un\":0, \"deux\":1, \"trois\":2\n",
    "}\n",
    "for key in b:\n",
    "    print(key)\n",
    "    print(b[key])\n",
    "\n",
    "for i, number in enumerate(a):\n",
    "    print(i, number)"
   ]
  },
  {
   "cell_type": "markdown",
   "metadata": {},
   "source": [
    "# Les boucles\n",
    "    - while (tant que)\n",
    "    - for (iteration) "
   ]
  },
  {
   "cell_type": "code",
   "execution_count": 20,
   "metadata": {},
   "outputs": [
    {
     "name": "stdout",
     "output_type": "stream",
     "text": [
      "[0, 1, 2, 3, 4, 5, 6, 7, 8, 9, 10, 11, 12, 13, 14, 15, 16, 17, 18, 19]\n",
      "[0, 1, 2, 3, 4, 5, 6, 7, 8, 9, 10, 11, 12, 13, 14, 15, 16, 17, 18, 19]\n",
      "[0, 2, 4, 6, 8, 10, 12, 14, 16, 18, 20, 22, 24, 26, 28]\n",
      "\n",
      "1\n",
      "01\n",
      "11\n",
      "001\n",
      "101\n",
      "011\n",
      "111\n",
      "0001\n",
      "1001\n",
      "0101\n",
      "1101\n",
      "0011\n",
      "1011\n",
      "0111\n"
     ]
    }
   ],
   "source": [
    "import numpy as np\n",
    "# boucle for en une ligne\n",
    "a = [i for i in range(0,20,1)]\n",
    "print(a)\n",
    "# c'est la même chose que\n",
    "a = []\n",
    "for i in range(0,20,1): # range(min, max(exclu), le pas d'iteration)\n",
    "    a.append(i)\n",
    "print(a)\n",
    "\n",
    "a = [i for i in range(30) if i % 2 == 0]\n",
    "print(a)\n",
    "\n",
    "for value in a: \n",
    "    n = value\n",
    "    binaire = \"\"\n",
    "    while n > 1:\n",
    "        n = n//2\n",
    "        binaire += str(n%2)\n",
    "    print(binaire)"
   ]
  },
  {
   "cell_type": "markdown",
   "metadata": {},
   "source": [
    "# Les fonctions\n",
    "..."
   ]
  },
  {
   "cell_type": "code",
   "execution_count": 27,
   "metadata": {},
   "outputs": [
    {
     "name": "stdout",
     "output_type": "stream",
     "text": [
      "George mange jambon\n",
      "George mange blankette\n",
      "George mange couscous\n"
     ]
    }
   ],
   "source": [
    "def foo1(qui, quoi=\"jambon\"):\n",
    "    print(f\"{qui} mange {quoi}\")\n",
    "\n",
    "foo1(\"George\")\n",
    "foo1(\"George\", \"blankette\")\n",
    "foo1(qui=\"George\", quoi=\"couscous\")"
   ]
  },
  {
   "cell_type": "markdown",
   "metadata": {},
   "source": [
    "# programmation orienté objet\n",
    "### kezako\n",
    "- C'est une technique basée sur l'idée de ne pas à avoir a réecrire le même code plusieurs fois et d'être réutilisé \n",
    "    - Par exemple si je fait un jeux video avec un personnage principale et des pnj on peux créer un objet qui permet de contenir certaine propriété de chaque entité comme le nom, prénoms, nb de pv, son armure ou encore des méthodes(fonction) pr l'interaction avec celui ci\n",
    "- Pr ce but on utilise des fonctions déjà integrer dans le language\n",
    "    - class : le nom de l'objet et en c++ on peux contenir une classe dans un namespace\n",
    "        - la class contient toujours un constructeur (__init__ en python) celle-ci est appelé a la création de l'objet et permet d'initialisé ces parametres et ces fonction\n",
    "        - self: c'est le noms courant utilisé pr une variable spécifique a une class, cette variable permet de savoir que la chose que tu appelles est dans l'objet et ne vas pas chercher une variable global\n",
    "        - self permet aussi de proteger les données d'une classe pour eviter qu'en utilisant le même nom de variable on modifie le contenu de l'objet\n",
    "        - en python une class peux avoir d'autre propriété comme __len__(la longueur d'un objet), __iter__(pour parcourir des informations dans la class par exemple avec une boucle for)\n",
    "        - il existe des \"décorateurs\" pr rajouter des comportement spécific au fonction comme @property qui permet d'utiliser une fonction sans l'appeler"
   ]
  },
  {
   "cell_type": "code",
   "execution_count": 5,
   "metadata": {},
   "outputs": [],
   "source": [
    "import numpy as np\n",
    "from random import randint\n",
    "\n",
    "class character(object):\n",
    "    def __init__(self, name, lastname, pv, armor, force, agility, gimmick):\n",
    "        self.name = name\n",
    "        self.force = force\n",
    "        self.agility = agility\n",
    "        self.lastname = lastname\n",
    "        self.health = pv\n",
    "        self.armor = armor\n",
    "        self.gimmick = gimmick\n",
    "\n",
    "    def ishitby(self, who):\n",
    "        hit = who.force\n",
    "        armorReduction = (1/(1+np.exp(-hit)))+1 if (1/(1+np.exp(-hit)))+1 > 0 else 0\n",
    "        rand = randint(0,10)\n",
    "        alive = True\n",
    "        if rand < self.agility:\n",
    "            self.health = self.health - (hit-armorReduction)\n",
    "            if self.health <= 0:\n",
    "                alive = False\n",
    "                print(f\"{self.gimmick}, {self.name} is dead\")\n",
    "                return alive, hit-armorReduction\n",
    "            else:\n",
    "                alive = True\n",
    "                print(f\"{who.name}, hit {self.name} for {hit-armorReduction}\")\n",
    "                print(f\"{self.name} has still {self.health} health point\")\n",
    "                return alive, hit-armorReduction\n",
    "        else:\n",
    "            print(f\"{who.name} hit {self.name} but miss\")\n",
    "            return alive, 0\n",
    "\n",
    "George = character(\"George\", \"Abitbol\", 10, 4, 3, 5, \"Monde de merde\")\n",
    "\n",
    "josé = character(\"José\", \"\", 10, 2, 3, 10, \"\")"
   ]
  },
  {
   "cell_type": "code",
   "execution_count": 6,
   "metadata": {},
   "outputs": [
    {
     "name": "stdout",
     "output_type": "stream",
     "text": [
      "José hit George but miss\n",
      "José, hit George for 1.0474258731775667\n",
      "George has still 8.952574126822434 health point\n",
      "José, hit George for 1.0474258731775667\n",
      "George has still 7.905148253644867 health point\n",
      "José hit George but miss\n",
      "José, hit George for 1.0474258731775667\n",
      "George has still 6.857722380467301 health point\n",
      "José, hit George for 1.0474258731775667\n",
      "George has still 5.810296507289735 health point\n",
      "José hit George but miss\n",
      "José hit George but miss\n",
      "José, hit George for 1.0474258731775667\n",
      "George has still 4.7628706341121685 health point\n",
      "José hit George but miss\n",
      "José hit George but miss\n",
      "José, hit George for 1.0474258731775667\n",
      "George has still 3.7154447609346017 health point\n",
      "José hit George but miss\n",
      "José hit George but miss\n",
      "José, hit George for 1.0474258731775667\n",
      "George has still 2.668018887757035 health point\n",
      "José, hit George for 1.0474258731775667\n",
      "George has still 1.6205930145794682 health point\n",
      "José, hit George for 1.0474258731775667\n",
      "George has still 0.5731671414019015 health point\n",
      "José hit George but miss\n",
      "José hit George but miss\n",
      "Monde de merde, George is dead\n"
     ]
    }
   ],
   "source": [
    "for i in range(20):\n",
    "    George.ishitby(josé)\n"
   ]
  },
  {
   "cell_type": "code",
   "execution_count": 59,
   "metadata": {},
   "outputs": [],
   "source": [
    "class joueur(character):\n",
    "    def __init__(self, name, lastname, pv, armor, force, agility, gimmick):\n",
    "        super().__init__(name, lastname, pv, armor, force, agility, gimmick) # on peux remplacer ces variable par *args, **kwargs, ça revient au même\n",
    "        self.position = [0,0]\n",
    "        self.action = \"\"\n",
    "\n",
    "    @property\n",
    "    def moveLeft(self):\n",
    "        self.position[0] += 1\n",
    "    \n",
    "    @property\n",
    "    def moveRight(self):\n",
    "        self.position[0] -= 1\n",
    "\n",
    "    @property\n",
    "    def moveUp(self):\n",
    "        self.position[1] += 1\n",
    "\n",
    "    @property\n",
    "    def moveDown(self):\n",
    "        self.position[1] -= 1\n",
    "\n",
    "    @property\n",
    "    def Act(self):\n",
    "        return self.action\n",
    "        print(f\"{self.name} do {self.action}\")\n",
    "\n",
    "    @Act.setter\n",
    "    def Act(self, action):\n",
    "        self.action = action\n",
    "\n",
    "    @property\n",
    "    def whereIam(self):\n",
    "        print(self.position)"
   ]
  },
  {
   "cell_type": "code",
   "execution_count": 63,
   "metadata": {},
   "outputs": [],
   "source": [
    "George = joueur(\"George\", \"Abitbol\", 10, 4, 3, 5, \"Monde de merde\")\n",
    "\n",
    "josé = character(\"José\", \"\", 10, 2, 3, 10, \"\")"
   ]
  },
  {
   "cell_type": "code",
   "execution_count": 64,
   "metadata": {},
   "outputs": [
    {
     "name": "stdout",
     "output_type": "stream",
     "text": [
      "José, hit George for 1.0474258731775667\n",
      "George has still 8.952574126822434 health point\n",
      "José hit George but miss\n",
      "José hit George but miss\n",
      "José hit George but miss\n",
      "José, hit George for 1.0474258731775667\n",
      "George has still 7.905148253644867 health point\n",
      "José, hit George for 1.0474258731775667\n",
      "George has still 6.857722380467301 health point\n",
      "José, hit George for 1.0474258731775667\n",
      "George has still 5.810296507289735 health point\n",
      "José, hit George for 1.0474258731775667\n",
      "George has still 4.7628706341121685 health point\n",
      "José, hit George for 1.0474258731775667\n",
      "George has still 3.7154447609346017 health point\n",
      "José hit George but miss\n",
      "José hit George but miss\n",
      "José hit George but miss\n",
      "José, hit George for 1.0474258731775667\n",
      "George has still 2.668018887757035 health point\n",
      "José, hit George for 1.0474258731775667\n",
      "George has still 1.6205930145794682 health point\n",
      "José, hit George for 1.0474258731775667\n",
      "George has still 0.5731671414019015 health point\n",
      "José hit George but miss\n",
      "José hit George but miss\n",
      "Monde de merde, George is dead\n",
      "Monde de merde, George is dead\n",
      "Monde de merde, George is dead\n",
      "[1, 2]\n",
      "George Abitbol mange ces morts\n"
     ]
    }
   ],
   "source": [
    "for i in range(20):\n",
    "    George.ishitby(josé)\n",
    "\n",
    "George.moveUp\n",
    "George.moveUp\n",
    "George.moveLeft\n",
    "George.whereIam\n",
    "George.Act = \"mange ces morts\"\n",
    "print(f'{George.name} {George.lastname} {George.Act}')"
   ]
  },
  {
   "cell_type": "code",
   "execution_count": 45,
   "metadata": {},
   "outputs": [
    {
     "name": "stdout",
     "output_type": "stream",
     "text": [
      "******************************\n",
      "%%%%%%%%%%%%%%%%%%%%%%%%%%%%%%\n",
      "Hello\n",
      "%%%%%%%%%%%%%%%%%%%%%%%%%%%%%%\n",
      "******************************\n",
      "\n",
      "******************************\n",
      "world\n",
      "******************************\n",
      "\n"
     ]
    }
   ],
   "source": [
    "def star(func):\n",
    "    def inner(*args, **kwargs):\n",
    "        print(\"*\" * 30)\n",
    "        func(*args, **kwargs)\n",
    "        print(\"*\" * 30+\"\\n\")\n",
    "    return inner\n",
    "\n",
    "\n",
    "def percent(func):\n",
    "    def inner(*args, **kwargs):\n",
    "        print(\"%\" * 30)\n",
    "        func(*args, **kwargs)\n",
    "        print(\"%\" * 30)\n",
    "    return inner\n",
    "\n",
    "\n",
    "@star\n",
    "@percent\n",
    "def printer(msg):\n",
    "    print(msg)\n",
    "\n",
    "\n",
    "printer(\"Hello\")\n",
    "\n",
    "@star\n",
    "def printer2(msg):\n",
    "    print(msg)\n",
    "\n",
    "printer2(\"world\")"
   ]
  },
  {
   "cell_type": "code",
   "execution_count": 47,
   "metadata": {},
   "outputs": [],
   "source": [
    "# import functools\n",
    "\n",
    "def debug(func):\n",
    "    \"\"\"Print the function signature and return value\"\"\"\n",
    "    # @functools.wraps(func)\n",
    "    def wrapper_debug(*args, **kwargs):\n",
    "        args_repr = [repr(a) for a in args]                      # 1\n",
    "        kwargs_repr = [f\"{k}={v!r}\" for k, v in kwargs.items()]  # 2\n",
    "        signature = \", \".join(args_repr + kwargs_repr)           # 3\n",
    "        print(f\"Calling {func.__name__}({signature})\")\n",
    "        value = func(*args, **kwargs)\n",
    "        print(f\"{func.__name__!r} returned {value!r}\")           # 4\n",
    "        return value\n",
    "    return wrapper_debug\n"
   ]
  },
  {
   "cell_type": "code",
   "execution_count": 65,
   "metadata": {},
   "outputs": [
    {
     "name": "stdout",
     "output_type": "stream",
     "text": [
      "Calling foo2(1)\n",
      "'foo2' returned 5.0\n",
      "Calling foo2()\n",
      "'foo2' returned 1.0\n"
     ]
    },
    {
     "data": {
      "text/plain": [
       "1.0"
      ]
     },
     "execution_count": 65,
     "metadata": {},
     "output_type": "execute_result"
    }
   ],
   "source": [
    "@debug\n",
    "def foo2(a=5):\n",
    "    b=5/a\n",
    "    return b\n",
    "\n",
    "foo2(1)\n",
    "foo2()"
   ]
  },
  {
   "cell_type": "code",
   "execution_count": null,
   "metadata": {},
   "outputs": [],
   "source": []
  }
 ],
 "metadata": {
  "kernelspec": {
   "display_name": "Python 3.9.13 ('cv_custom')",
   "language": "python",
   "name": "python3"
  },
  "language_info": {
   "codemirror_mode": {
    "name": "ipython",
    "version": 3
   },
   "file_extension": ".py",
   "mimetype": "text/x-python",
   "name": "python",
   "nbconvert_exporter": "python",
   "pygments_lexer": "ipython3",
   "version": "3.9.13"
  },
  "orig_nbformat": 4,
  "vscode": {
   "interpreter": {
    "hash": "941424d81694f27b6e288e7829aed001204d4b90c401ed5151211387e93bb1d3"
   }
  }
 },
 "nbformat": 4,
 "nbformat_minor": 2
}
